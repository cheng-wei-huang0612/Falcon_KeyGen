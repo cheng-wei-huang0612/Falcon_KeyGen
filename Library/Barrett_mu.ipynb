{
 "cells": [
  {
   "cell_type": "code",
   "execution_count": 1,
   "id": "4d51e34d-8738-4fce-b768-2318372c63bd",
   "metadata": {},
   "outputs": [],
   "source": [
    "def Mu(b,q):\n",
    "    mu = 2*floor(((b << 31)/(2*q))+0.5)\n",
    "    return mu\n"
   ]
  },
  {
   "cell_type": "code",
   "execution_count": 3,
   "id": "df635d07-6660-4de3-a1bf-1cdf12377f21",
   "metadata": {},
   "outputs": [
    {
     "name": "stdout",
     "output_type": "stream",
     "text": [
      "470280\n"
     ]
    }
   ],
   "source": [
    "print(Mu(7345, 33540097))"
   ]
  },
  {
   "cell_type": "code",
   "execution_count": 5,
   "id": "652b9be4-e86f-4092-811d-5d7cd621f6e9",
   "metadata": {},
   "outputs": [],
   "source": [
    "omegas = [0]*8192;\n",
    "P = []\n"
   ]
  },
  {
   "cell_type": "code",
   "execution_count": null,
   "id": "dc16d87b-e4a2-4a49-9f29-3bb38a2d086f",
   "metadata": {},
   "outputs": [],
   "source": []
  }
 ],
 "metadata": {
  "kernelspec": {
   "display_name": "SageMath 10.2",
   "language": "sage",
   "name": "sagemath-10.2"
  },
  "language_info": {
   "codemirror_mode": {
    "name": "ipython",
    "version": 3
   },
   "file_extension": ".py",
   "mimetype": "text/x-python",
   "name": "python",
   "nbconvert_exporter": "python",
   "pygments_lexer": "ipython3",
   "version": "3.11.1"
  }
 },
 "nbformat": 4,
 "nbformat_minor": 5
}
