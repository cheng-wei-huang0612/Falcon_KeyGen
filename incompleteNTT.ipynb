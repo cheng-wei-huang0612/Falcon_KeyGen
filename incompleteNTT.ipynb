{
 "cells": [
  {
   "cell_type": "code",
   "execution_count": 1,
   "id": "58291f1c-0e2e-4218-a998-68a157fb75be",
   "metadata": {},
   "outputs": [
    {
     "name": "stdout",
     "output_type": "stream",
     "text": [
      "32\n",
      "[1, 9791491, 7137274, 9529539, 16760832, 6969342, 9623559, 7231294]\n"
     ]
    }
   ],
   "source": [
    "# incomplete NTT\n",
    "from Poly import *\n",
    "\n",
    "logn = 5\n",
    "n = 1<<logn \n",
    "\n",
    "p = 16760833\n",
    "R_p = quotient(ZZ,p*ZZ)\n",
    "R_p_poly = quotient(PolynomialRing(R_p,x),x^n+1)\n",
    "omega = R_p.zeta(n>>2) \n",
    "#print([omega^i for i in range((n>>2)+1)])\n",
    "\n",
    "omegas = [omega^i for i in range((n>>2))]\n",
    "print(n)\n",
    "print((omegas))"
   ]
  },
  {
   "cell_type": "code",
   "execution_count": 2,
   "id": "fd2434c1-69b0-4aa0-a2ec-3bf9abff9fac",
   "metadata": {},
   "outputs": [
    {
     "name": "stdout",
     "output_type": "stream",
     "text": [
      "[1, 5, 3, 7]\n"
     ]
    }
   ],
   "source": [
    "def extend(powers):\n",
    "    new_powers = []\n",
    "    d = len(powers)\n",
    "    for i in range(d):\n",
    "        new_powers.append(powers[i])\n",
    "        new_powers.append(powers[i]+2*d)\n",
    "    return new_powers\n",
    "\n",
    "powers = [1]\n",
    "list_of_powers = [powers]\n",
    "\n",
    "for i in range(logn-3):\n",
    "    powers = extend(powers)\n",
    "    list_of_powers.append(powers)\n",
    "\n",
    "total_power = list_of_powers[-1]\n",
    "print((total_power))"
   ]
  },
  {
   "cell_type": "code",
   "execution_count": 3,
   "id": "0f7b9d17-9279-4075-87f6-9e80b2dd0932",
   "metadata": {},
   "outputs": [],
   "source": [
    "def StepDown(layer,f):\n",
    "    \"\"\"\n",
    "    from {layer} to {layer+1}\n",
    "    \"\"\"\n",
    "    # Twiddle\n",
    "    step_size = 1 << (logn - 3 - layer)\n",
    "    \n",
    "    ptr = n>>(layer+1)\n",
    "    for j in range(1<<layer):\n",
    "        for i in range((n>>(layer+1))):\n",
    "            f[ptr+i] = f[ptr+i] * omegas[(n>>(layer+4))*total_power[j*(step_size)]]\n",
    "            \n",
    "        ptr += (n>>layer)\n",
    "\n",
    "\n",
    "    #CT Butterfly\n",
    "    f_temp = f.copy()\n",
    "    d = (n>>(layer+1)) #distance\n",
    "    ptr = 0\n",
    "    for j in range(2^layer):\n",
    "        for i in range((n>>(layer+1))):\n",
    "            f[ptr+  i] = f_temp[ptr+i] + f_temp[ptr+d+i]\n",
    "            f[ptr+d+i] = f_temp[ptr+i] - f_temp[ptr+d+i]\n",
    "            \n",
    "        ptr += (n>>layer)\n",
    "\n",
    "\n",
    "def StepUp(layer,f):\n",
    "    \"\"\"\n",
    "    from {layer+1} to {layer}\n",
    "    \"\"\"\n",
    "    \n",
    "    #CT Butterfly\n",
    "    f_temp = f.copy()\n",
    "    d = (n>>(layer+1)) #distance\n",
    "    ptr = 0\n",
    "    for j in range(1 << layer):\n",
    "        for i in range((n>>(layer+1))):\n",
    "            f[ptr+  i] = f_temp[ptr+i] + f_temp[ptr+d+i]\n",
    "            f[ptr+d+i] = f_temp[ptr+i] - f_temp[ptr+d+i]\n",
    "            \n",
    "        ptr += (n>>layer)\n",
    "\n",
    "\n",
    "    \n",
    "    # Twiddle\n",
    "    step_size = 1 << (logn - 3 - layer)\n",
    "    \n",
    "    ptr = n>>(layer+1)\n",
    "    for j in range(1 << layer):\n",
    "        for i in range((n>>(layer+1))):\n",
    "            f[ptr+i] = f[ptr+i] * omegas[(n>>2)-((n>>(layer+4))*total_power[j*(step_size)])]\n",
    "            \n",
    "        ptr += (n>>layer)\n",
    "\n",
    "    # Normalization\n",
    "    for i in range(n):\n",
    "        f[i] = f[i] / R_p(2)"
   ]
  },
  {
   "cell_type": "code",
   "execution_count": 4,
   "id": "b7b0ce5d-4403-4fc6-9a43-24b1ce68845f",
   "metadata": {},
   "outputs": [],
   "source": [
    "# Perform TMVP\n",
    "def TMVP_base(f_small_8, g_small_8,twiddle):\n",
    "    \"\"\"\n",
    "    Implement the TMVP.\n",
    "    \"\"\"\n",
    "    result = [0]*8\n",
    "    toep = [item * twiddle for item in f_small_8][1:] + f_small_8 \n",
    "    for i in range(8):\n",
    "        result[i] = sum([g_small_8[j] * toep[i+7-j] for j in range(8)])\n",
    "    return result"
   ]
  },
  {
   "cell_type": "code",
   "execution_count": 5,
   "id": "6669a2ef-82a0-4566-a06c-c73bfd556b5d",
   "metadata": {},
   "outputs": [
    {
     "name": "stdout",
     "output_type": "stream",
     "text": [
      "[1, 6, 4, 3, 4, 0, 2, 0, 4, 2, 3, 0, 1, 0, 0, 8, 1, 3, 0, 3, 1, 4, 1, 2, 3, 2, 0, 0, 1, 2, 0, 3] [0, 0, 4, 0, 0, 2, 1, 3, 2, 6, 4, 1, 1, 7, 3, 2, 0, 4, 0, 1, 0, 0, 6, 0, 2, 0, 1, 3, 0, 0, 4, 2]\n"
     ]
    }
   ],
   "source": [
    "\n",
    "f = Polynomial_Generator(n)\n",
    "g = Polynomial_Generator(n)\n",
    "\n",
    "#f = [1, 3, 0, 0, 3, 0, 1, 2, 2, 0, 2, 2, 2, 5, 1, 0, 0, 0, 3, 1, 1, 2, 0, 1, 1, 2, 1, 0, 0, 0, 0, 0, 0, 3, 4, 3, 2, 0, 2, 0, 1, 6, 0, 0, 0, 3, 0, 2, 2, 5, 1, 0, 2, 2, 0, 1, 4, 0, 0, 4, 0, 0, 2, 2, 1, 5, 0, 0, 3, 2, 1, 6, 1, 5, 0, 2, 6, 0, 2, 1, 0, 4, 3, 1, 3, 0, 0, 0, 2, 3, 4, 3, 1, 1, 0, 0, 1, 0, 0, 0, 1, 1, 4, 6, 1, 3, 1, 4, 3, 2, 0, 0, 2, 6, 0, 2, 0, 2, 2, 0, 0, 0, 0, 5, 2, 1, 2, 0, 2, 0, 2, 4, 2, 1, 2, 2, 2, 6, 5, 1, 0, 2, 1, 1, 1, 7, 1, 1, 2, 0, 2, 2, 2, 1, 5, 1, 3, 2, 0, 2, 3, 5, 4, 2, 1, 0, 1, 3, 1, 3, 4, 2, 0, 0, 2, 1, 4, 2, 2, 3, 1, 1, 0, 1, 2, 2, 2, 3, 2, 0, 4, 1, 1, 1, 3, 0, 2, 5, 1, 2, 4, 0, 1, 1, 0, 0, 0, 1, 0, 3, 2, 2, 1, 7, 1, 2, 1, 1, 3, 6, 5, 1, 0, 0, 1, 0, 1, 0, 1, 3, 5, 0, 1, 5, 1, 1, 2, 0, 3, 0, 0, 0, 0, 0, 1, 3, 0, 0, 0, 2, 3, 6, 4, 6, 2, 1]\n",
    "#g = [3, 3, 1, 2, 1, 2, 1, 0, 2, 0, 0, 6, 4, 0, 8, 0, 0, 0, 1, 1, 1, 5, 2, 0, 4, 0, 2, 1, 2, 1, 2, 2, 0, 2, 0, 3, 4, 0, 3, 7, 1, 0, 0, 0, 2, 1, 3, 6, 2, 6, 1, 0, 2, 5, 0, 0, 0, 5, 2, 1, 2, 0, 3, 1, 7, 0, 1, 6, 0, 0, 1, 7, 1, 2, 1, 0, 3, 2, 4, 3, 8, 2, 3, 1, 1, 0, 2, 1, 0, 1, 0, 0, 4, 5, 1, 5, 3, 3, 2, 0, 0, 2, 0, 1, 3, 0, 1, 4, 1, 1, 1, 3, 2, 4, 3, 1, 3, 2, 1, 3, 2, 2, 3, 2, 1, 1, 4, 0, 1, 0, 1, 0, 1, 3, 5, 3, 1, 1, 2, 1, 1, 2, 0, 1, 5, 3, 0, 2, 6, 0, 1, 3, 0, 4, 2, 1, 2, 0, 0, 1, 1, 5, 3, 7, 5, 0, 4, 0, 3, 2, 2, 2, 0, 2, 1, 1, 1, 1, 0, 1, 0, 3, 3, 1, 1, 3, 0, 1, 0, 0, 4, 0, 0, 1, 0, 0, 3, 0, 0, 4, 0, 2, 0, 1, 0, 0, 2, 2, 1, 0, 3, 1, 2, 0, 4, 0, 0, 2, 1, 3, 0, 1, 4, 2, 4, 0, 3, 1, 6, 3, 1, 3, 1, 0, 5, 2, 2, 3, 5, 1, 1, 2, 3, 0, 5, 6, 0, 1, 1, 2, 6, 1, 3, 2, 1, 3]\n",
    "\n",
    "#f = [1, 0, 2, 4, 1, 0, 0, 3, 0, 2, 5, 3, 0, 1, 2, 5, 3, 0, 3, 2, 1, 0, 1, 2, 2, 1, 3, 0, 0, 1, 1, 0, 2, 4, 1, 0, 1, 2, 3, 1, 0, 2, 0, 1, 0, 5, 2, 3, 2, 3, 1, 2, 2, 2, 3, 0, 4, 2, 1, 1, 1, 1, 1, 5, 4, 0, 0, 3, 0, 6, 0, 7, 4, 7, 2, 1, 1, 3, 1, 3, 4, 2, 4, 2, 3, 2, 4, 6, 3, 6, 3, 1, 0, 0, 1, 0, 3, 4, 3, 0, 0, 2, 7, 2, 6, 5, 4, 1, 1, 0, 1, 1, 3, 0, 0, 0, 2, 0, 1, 5, 1, 1, 1, 2, 2, 0, 4, 1, 0, 1, 0, 2, 5, 2, 2, 3, 2, 1, 4, 2, 3, 4, 8, 3, 1, 0, 3, 0, 5, 3, 1, 1, 1, 6, 7, 0, 1, 2, 2, 5, 1, 6, 6, 0, 3, 0, 1, 4, 1, 0, 6, 0, 0, 5, 0, 2, 3, 0, 2, 0, 1, 3, 1, 0, 1, 1, 0, 7, 0, 1, 2, 2, 0, 3, 0, 1, 0, 0, 1, 3, 0, 1, 5, 4, 1, 0, 0, 4, 1, 4, 5, 3, 2, 3, 4, 3, 0, 0, 1, 1, 1, 0, 4, 2, 3, 4, 2, 0, 1, 2, 0, 3, 3, 2, 4, 2, 1, 2, 1, 2, 3, 0, 5, 5, 2, 2, 4, 3, 1, 1, 5, 1, 1, 0, 4, 3]\n",
    "#g = [3, 0, 1, 0, 3, 3, 2, 2, 1, 2, 3, 0, 1, 1, 4, 4, 2, 3, 4, 2, 2, 1, 3, 3, 3, 1, 2, 0, 0, 0, 0, 1, 1, 3, 5, 2, 0, 6, 3, 2, 2, 6, 2, 5, 1, 3, 0, 1, 6, 1, 3, 1, 7, 0, 3, 6, 0, 1, 0, 2, 2, 0, 0, 1, 1, 0, 0, 2, 5, 4, 6, 6, 0, 2, 4, 1, 0, 0, 3, 3, 5, 1, 1, 3, 0, 0, 3, 5, 1, 1, 1, 6, 1, 0, 3, 2, 4, 1, 0, 0, 3, 1, 1, 5, 0, 2, 0, 0, 0, 0, 2, 1, 1, 0, 3, 4, 2, 0, 4, 3, 1, 5, 1, 5, 5, 2, 8, 1, 4, 6, 3, 2, 0, 1, 1, 2, 2, 3, 0, 1, 1, 0, 2, 0, 0, 2, 0, 5, 3, 2, 1, 0, 3, 1, 3, 1, 1, 0, 2, 6, 0, 0, 0, 2, 0, 5, 3, 2, 1, 8, 6, 4, 4, 2, 3, 0, 4, 2, 1, 4, 0, 2, 0, 0, 1, 3, 0, 1, 1, 1, 5, 4, 6, 0, 1, 0, 2, 8, 0, 4, 1, 1, 4, 1, 0, 0, 2, 2, 0, 1, 2, 4, 0, 0, 0, 1, 0, 3, 1, 3, 2, 4, 2, 6, 2, 1, 2, 0, 2, 0, 0, 4, 0, 3, 0, 6, 2, 4, 1, 0, 7, 0, 0, 6, 4, 3, 1, 0, 4, 2, 2, 0, 1, 1, 0, 0]\n",
    "\n",
    "f = [R_p(i) for i in f]\n",
    "g = [R_p(i) for i in g]\n",
    "\n",
    "f_poly = R_p_poly(f)\n",
    "g_poly = R_p_poly(g)\n",
    "\n",
    "print(f,g)"
   ]
  },
  {
   "cell_type": "code",
   "execution_count": null,
   "id": "37d6d703-bc35-41fc-ac99-81a2be9e60cc",
   "metadata": {},
   "outputs": [],
   "source": []
  },
  {
   "cell_type": "code",
   "execution_count": 6,
   "id": "5627ff35-f1a2-4623-8c1d-763e76e0273c",
   "metadata": {},
   "outputs": [
    {
     "name": "stdout",
     "output_type": "stream",
     "text": [
      "0\n",
      "1\n",
      "[7848524, 9771389, 12613644, 4650992, 9697475, 14086508, 7137276, 3869262, 6426026, 16291434, 4147197, 4650992, 4577081, 9490018, 7137276, 7919001, 10072857, 469411, 11827788, 12109847, 12183760, 7794719, 9623561, 7532072, 9174263, 6989456, 4933053, 12109847, 7063366, 2150421, 9623561, 14201331] [5120394, 3493877, 15173841, 11995716, 9791491, 1497107, 9751276, 5120397, 11640439, 3321816, 1587000, 2278832, 6969342, 15263730, 8852682, 11640442, 5120394, 11867305, 14387985, 15005905, 9529539, 16424276, 8170105, 5120397, 11640439, 14838668, 2372856, 4241213, 7231294, 336561, 6747607, 11640442]\n"
     ]
    }
   ],
   "source": [
    "for i in range(logn - 3):\n",
    "    print(i)\n",
    "    StepDown(i,f)\n",
    "    StepDown(i,g)\n",
    "print(f,g)"
   ]
  },
  {
   "cell_type": "code",
   "execution_count": 7,
   "id": "f46df212-493e-4bea-9e14-3fbb4a9b870f",
   "metadata": {},
   "outputs": [
    {
     "name": "stdout",
     "output_type": "stream",
     "text": [
      "[4362643, 4750369, 2847582, 2972138, 427772, 639951, 9685096, 686609, 9182084, 12307976, 11253994, 7443362, 685702, 1673418, 8746004, 9556105, 4443219, 9175985, 9439968, 3034642, 13463677, 3045623, 3045801, 6684783, 15533128, 7286940, 9979630, 3310539, 2183434, 11401461, 12044505, 16593897]\n"
     ]
    }
   ],
   "source": [
    "h = [0]*n\n",
    "for i in range(0,n,8):\n",
    "    h[i:i+8] = TMVP_base(f[i:i+8],g[i:i+8],omegas[total_power[i>>3]])\n",
    "print(h)"
   ]
  },
  {
   "cell_type": "code",
   "execution_count": 8,
   "id": "0c374f11-c9fa-4b96-93d9-e0babc3624d4",
   "metadata": {},
   "outputs": [],
   "source": [
    "\n",
    "\n",
    "StepUp(1, h)\n",
    "StepUp(0, h)\n"
   ]
  },
  {
   "cell_type": "code",
   "execution_count": null,
   "id": "0cbb5bbb-397d-4490-8065-f12ae895ec32",
   "metadata": {},
   "outputs": [],
   "source": []
  },
  {
   "cell_type": "code",
   "execution_count": 9,
   "id": "e59cd85b-0b00-4c7e-8021-ff0e7ad982fa",
   "metadata": {},
   "outputs": [
    {
     "name": "stdout",
     "output_type": "stream",
     "text": [
      "[16760685, 16760734, 16760710, 16760795, 16760771, 16760738, 16760768, 16760765, 16760816, 16760802, 12, 27, 19, 16760832, 20, 49, 35, 101, 55, 43, 40, 53, 60, 97, 99, 115, 91, 67, 137, 81, 129, 111]\n",
      "True\n"
     ]
    }
   ],
   "source": [
    "\n",
    "Correct_poly = f_poly*g_poly\n",
    "Correct_list = (list(Correct_poly))\n",
    "\n",
    "print(Correct_list)\n",
    "print(Correct_list == h)"
   ]
  },
  {
   "cell_type": "code",
   "execution_count": 10,
   "id": "dd292e0a-6cbc-4419-a3f3-7f59fce41387",
   "metadata": {},
   "outputs": [
    {
     "name": "stdout",
     "output_type": "stream",
     "text": [
      "Montgomery form of omegas:\n",
      "[4194048, 14494886, 15152879, 3034156, 16101275, 9421437, 9406032, 3096948, 14719561, 3387958, 11631221, 11686617, 11930405, 1716427, 7304379, 12000572, 6994530, 5999281, 14509801, 13656077, 15369345, 11959950, 10601440, 1099823, 14899773, 2179276, 4598303, 16218269, 10059753, 365533, 9943678, 5884202, 12566785, 2265947, 1607954, 13726677, 659558, 7339396, 7354801, 13663885, 2041272, 13372875, 5129612, 5074216, 4830428, 15044406, 9456454, 4760261, 9766303, 10761552, 2251032, 3104756, 1391488, 4800883, 6159393, 15661010, 1861060, 14581557, 12162530, 542564, 6701080, 16395300, 6817155, 10876631]\n"
     ]
    }
   ],
   "source": [
    "# Define parameters\n",
    "p = 16760833\n",
    "p0i = 4043292671  # -1/p mod 2^32\n",
    "r2 = 13696128  # r^2 mod p\n",
    "\n",
    "# Montgomery multiplication function\n",
    "def montymul(a, b, p, p0i):\n",
    "    z = a * b\n",
    "    w = (z * p0i) & 0xFFFFFFFF  # w = (z * p0i) mod 2^32\n",
    "    d = (z + w * p) >> 32\n",
    "    if d >= p:\n",
    "        d -= p\n",
    "    return d\n",
    "\n",
    "# Original omegas array\n",
    "omegas = [\n",
    "    1, 16366294, 3166450, 14192771, 8258568, 12296714, 7192835, 6511330, \n",
    "    9529539, 15271039, 12943322, 11758216, 5336149, 9342819, 2971251, 11783397, \n",
    "    9623559, 12437688, 16656576, 2368341, 13549951, 893592, 7228067, 843839, \n",
    "    9791491, 12287189, 10750218, 15574480, 16264742, 11000108, 11443476, \n",
    "    1529312, 16760832, 394539, 13594383, 2568062, 8502265, 4464119, 9567998, \n",
    "    10249503, 7231294, 1489794, 3817511, 5002617, 11424684, 7418014, 13789582, \n",
    "    4977436, 7137274, 4323145, 104257, 14392492, 3210882, 15867241, 9532766, \n",
    "    15916994, 6969342, 4473644, 6010615, 1186353, 496091, 5760725, 5317357, \n",
    "    15231521\n",
    "]\n",
    "\n",
    "# Compute the Montgomery form of omegas\n",
    "omegas_mont = [montymul(omega, r2, p, p0i) for omega in omegas]\n",
    "\n",
    "# Print the result\n",
    "print(\"Montgomery form of omegas:\")\n",
    "print(omegas_mont)\n"
   ]
  },
  {
   "cell_type": "code",
   "execution_count": null,
   "id": "d7df39c6-3bd8-4d0e-91d0-21f30f44b60d",
   "metadata": {},
   "outputs": [],
   "source": []
  }
 ],
 "metadata": {
  "kernelspec": {
   "display_name": "SageMath 10.2",
   "language": "sage",
   "name": "sagemath"
  },
  "language_info": {
   "codemirror_mode": {
    "name": "ipython",
    "version": 3
   },
   "file_extension": ".py",
   "mimetype": "text/x-python",
   "name": "python",
   "nbconvert_exporter": "python",
   "pygments_lexer": "ipython3",
   "version": "3.11.1"
  }
 },
 "nbformat": 4,
 "nbformat_minor": 5
}
