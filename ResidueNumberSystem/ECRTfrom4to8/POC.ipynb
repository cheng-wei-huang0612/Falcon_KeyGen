{
 "cells": [
  {
   "cell_type": "markdown",
   "metadata": {
    "vscode": {
     "languageId": "plaintext"
    }
   },
   "source": [
    "We will translate the ecrt function from Python to C."
   ]
  },
  {
   "cell_type": "code",
   "execution_count": 3,
   "metadata": {},
   "outputs": [],
   "source": [
    "from data import n, m, p, P_mod, P_i_mod, q\n",
    "\n",
    "def extended_gcd(a, b):\n",
    "    if b == 0:\n",
    "        return (a, 1, 0)\n",
    "    g, x1, y1 = extended_gcd(b, a % b)\n",
    "    return (g, y1, x1 - (a // b) * y1)\n",
    "\n",
    "def mod_inverse(a, m):\n",
    "    g, x, _ = extended_gcd(a, m)\n",
    "    if g != 1:\n",
    "        raise ValueError(\"No modular inverse\")\n",
    "    return x % m\n",
    "\n",
    "def signed_repr(val, mod):\n",
    "    # Convert val mod mod into range [-mod/2, mod/2)\n",
    "    val = val % mod\n",
    "    if val > mod // 2:\n",
    "        val -= mod\n",
    "    return val\n",
    "\n",
    "from math import gcd\n",
    "from fractions import Fraction\n",
    "\n",
    "def crt(moduli, residues):\n",
    "    # A simple implementation of CRT for pairwise coprime moduli\n",
    "    from functools import reduce\n",
    "    M = 1\n",
    "    for mm in moduli:\n",
    "        M *= mm\n",
    "    x = 0\n",
    "    for mm, r in zip(moduli, residues):\n",
    "        M_i = M // mm\n",
    "        inv = pow(M_i, -1, mm)  # Python 3.8+ syntax for modular inverse\n",
    "        x += r * M_i * inv\n",
    "    return x % M, M"
   ]
  },
  {
   "cell_type": "code",
   "execution_count": null,
   "metadata": {},
   "outputs": [],
   "source": []
  },
  {
   "cell_type": "code",
   "execution_count": 7,
   "metadata": {},
   "outputs": [
    {
     "name": "stdout",
     "output_type": "stream",
     "text": [
      "u: 776573398402117817120901379824531338\n",
      "Partial: [334420081, -273268078, -420165969, -213671320]\n",
      "Correct: [334420081, -273268078, -420165969, -213671320, 306586684, 352506230, 390030597, 331464316]\n"
     ]
    }
   ],
   "source": [
    "import random\n",
    "u_partial = []\n",
    "for i in range(n):\n",
    "    ui = random.randint(-p[i]//2, p[i]//2 - 1)\n",
    "    u_partial.append(ui)\n",
    "\n",
    "# Compute u from partial representation using CRT\n",
    "u, _ = crt(p[:n], u_partial)\n",
    "\n",
    "u_correct = [signed_repr(u,p_i) for p_i in p]\n",
    "\n",
    "\n",
    "\n",
    "\n",
    "\n",
    "print(f\"u: {u}\")\n",
    "print(f\"Partial: {u_partial}\")\n",
    "print(f\"Correct: {u_correct}\")\n"
   ]
  },
  {
   "cell_type": "code",
   "execution_count": null,
   "metadata": {},
   "outputs": [
    {
     "ename": "NameError",
     "evalue": "name 'u_full' is not defined",
     "output_type": "error",
     "traceback": [
      "\u001b[0;31m---------------------------------------------------------------------------\u001b[0m",
      "\u001b[0;31mNameError\u001b[0m                                 Traceback (most recent call last)",
      "Cell \u001b[0;32mIn[5], line 7\u001b[0m\n\u001b[1;32m      5\u001b[0m \u001b[38;5;28;01mif\u001b[39;00m expected \u001b[38;5;241m>\u001b[39m p[j]\u001b[38;5;241m/\u001b[39m\u001b[38;5;241m/\u001b[39m\u001b[38;5;241m2\u001b[39m:\n\u001b[1;32m      6\u001b[0m     expected \u001b[38;5;241m-\u001b[39m\u001b[38;5;241m=\u001b[39m p[j]\n\u001b[0;32m----> 7\u001b[0m \u001b[38;5;28;01mif\u001b[39;00m expected \u001b[38;5;241m!=\u001b[39m \u001b[43mu_full\u001b[49m[j]:\n\u001b[1;32m      8\u001b[0m     \u001b[38;5;28mprint\u001b[39m(\u001b[38;5;124mf\u001b[39m\u001b[38;5;124m\"\u001b[39m\u001b[38;5;124mMismatch at modulus p[\u001b[39m\u001b[38;5;132;01m{\u001b[39;00mj\u001b[38;5;132;01m}\u001b[39;00m\u001b[38;5;124m]=\u001b[39m\u001b[38;5;132;01m{\u001b[39;00mp[j]\u001b[38;5;132;01m}\u001b[39;00m\u001b[38;5;124m: got \u001b[39m\u001b[38;5;132;01m{\u001b[39;00mu_full[j]\u001b[38;5;132;01m}\u001b[39;00m\u001b[38;5;124m, expected \u001b[39m\u001b[38;5;132;01m{\u001b[39;00mexpected\u001b[38;5;132;01m}\u001b[39;00m\u001b[38;5;124m\"\u001b[39m)\n\u001b[1;32m      9\u001b[0m     \u001b[38;5;28;01mbreak\u001b[39;00m\n",
      "\u001b[0;31mNameError\u001b[0m: name 'u_full' is not defined"
     ]
    }
   ],
   "source": [
    "\n"
   ]
  }
 ],
 "metadata": {
  "kernelspec": {
   "display_name": "Python 3",
   "language": "python",
   "name": "python3"
  },
  "language_info": {
   "codemirror_mode": {
    "name": "ipython",
    "version": 3
   },
   "file_extension": ".py",
   "mimetype": "text/x-python",
   "name": "python",
   "nbconvert_exporter": "python",
   "pygments_lexer": "ipython3",
   "version": "3.10.14"
  }
 },
 "nbformat": 4,
 "nbformat_minor": 2
}
